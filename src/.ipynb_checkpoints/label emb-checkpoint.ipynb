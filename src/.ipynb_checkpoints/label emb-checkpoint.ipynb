{
 "cells": [
  {
   "cell_type": "code",
   "execution_count": 1,
   "id": "f84e74fe-7c01-4b11-ae69-68be145829fd",
   "metadata": {},
   "outputs": [],
   "source": [
    "import torch"
   ]
  },
  {
   "cell_type": "code",
   "execution_count": 2,
   "id": "4bf8ad2e-2bbc-4ce5-8a2b-46d9e50f9277",
   "metadata": {},
   "outputs": [],
   "source": [
    "a = torch.nn.Parameter(\n",
    "            torch.nn.init.normal_(torch.rand(23, 128), std=0.01))"
   ]
  },
  {
   "cell_type": "code",
   "execution_count": 4,
   "id": "d7be1adf-9fe7-4e22-930e-1cc2b2d8a711",
   "metadata": {},
   "outputs": [
    {
     "data": {
      "text/plain": [
       "torch.Size([23, 128])"
      ]
     },
     "execution_count": 4,
     "metadata": {},
     "output_type": "execute_result"
    }
   ],
   "source": [
    "a.shape"
   ]
  },
  {
   "cell_type": "code",
   "execution_count": 7,
   "id": "e136325d-900e-42b0-b67a-69d63b4043db",
   "metadata": {},
   "outputs": [],
   "source": [
    "b = torch.randn(16,23)"
   ]
  },
  {
   "cell_type": "code",
   "execution_count": 8,
   "id": "f769b196-3cc8-4f5c-a8cc-a88551f67498",
   "metadata": {},
   "outputs": [
    {
     "data": {
      "text/plain": [
       "torch.Size([16, 23])"
      ]
     },
     "execution_count": 8,
     "metadata": {},
     "output_type": "execute_result"
    }
   ],
   "source": [
    "b.shape"
   ]
  },
  {
   "cell_type": "code",
   "execution_count": 9,
   "id": "fefd6ca7-60a6-4b36-a02f-49482b644a9a",
   "metadata": {},
   "outputs": [],
   "source": [
    "m = torch.nn.Softmax(dim=1)"
   ]
  },
  {
   "cell_type": "code",
   "execution_count": 13,
   "id": "9e8e3f97-43e3-4337-b53a-49f283855a19",
   "metadata": {},
   "outputs": [],
   "source": [
    "c = m(b)"
   ]
  },
  {
   "cell_type": "code",
   "execution_count": 11,
   "id": "484c819d-7314-408e-9f18-8be2bac693dc",
   "metadata": {},
   "outputs": [
    {
     "data": {
      "text/plain": [
       "tensor([1.0000, 1.0000, 1.0000, 1.0000, 1.0000, 1.0000, 1.0000, 1.0000, 1.0000,\n",
       "        1.0000, 1.0000, 1.0000, 1.0000, 1.0000, 1.0000, 1.0000])"
      ]
     },
     "execution_count": 11,
     "metadata": {},
     "output_type": "execute_result"
    }
   ],
   "source": [
    "torch.sum(m(b),1)"
   ]
  },
  {
   "cell_type": "code",
   "execution_count": 17,
   "id": "5509326a-0f54-4039-aa33-39aa5305b8e0",
   "metadata": {},
   "outputs": [
    {
     "data": {
      "text/plain": [
       "torch.Size([16, 23])"
      ]
     },
     "execution_count": 17,
     "metadata": {},
     "output_type": "execute_result"
    }
   ],
   "source": [
    "c.shape"
   ]
  },
  {
   "cell_type": "code",
   "execution_count": 31,
   "id": "a0701b51-7c89-4641-82c1-f661052c1631",
   "metadata": {},
   "outputs": [
    {
     "ename": "RuntimeError",
     "evalue": "The size of tensor a (23) must match the size of tensor b (128) at non-singleton dimension 1",
     "output_type": "error",
     "traceback": [
      "\u001b[0;31m---------------------------------------------------------------------------\u001b[0m\n\u001b[0;31mRuntimeError\u001b[0m                              Traceback (most recent call last)",
      "In  \u001b[0;34m[31]\u001b[0m:\nLine \u001b[0;34m1\u001b[0m:     c[\u001b[34m0\u001b[39;49;00m]*a\n",
      "\u001b[0;31mRuntimeError\u001b[0m: The size of tensor a (23) must match the size of tensor b (128) at non-singleton dimension 1\n\u001b[0;31m---------------------------------------------------------------------------\u001b[0m"
     ]
    }
   ],
   "source": []
  },
  {
   "cell_type": "code",
   "execution_count": 25,
   "id": "e5f3698f-6dc6-4ad4-a521-971c38639be0",
   "metadata": {},
   "outputs": [
    {
     "data": {
      "text/plain": [
       "tensor([[-0.0015, -0.0013, -0.0017,  ...,  0.0022,  0.0013,  0.0029],\n",
       "        [-0.0030,  0.0016, -0.0005,  ...,  0.0025,  0.0007,  0.0045],\n",
       "        [-0.0049, -0.0011,  0.0003,  ..., -0.0012, -0.0002,  0.0023],\n",
       "        ...,\n",
       "        [-0.0019, -0.0002, -0.0027,  ...,  0.0006, -0.0014, -0.0020],\n",
       "        [-0.0028, -0.0010, -0.0050,  ..., -0.0067, -0.0033, -0.0035],\n",
       "        [-0.0028, -0.0008, -0.0005,  ...,  0.0017, -0.0008,  0.0018]],\n",
       "       grad_fn=<MmBackward>)"
      ]
     },
     "execution_count": 25,
     "metadata": {},
     "output_type": "execute_result"
    }
   ],
   "source": [
    "torch.mm(c,a)"
   ]
  },
  {
   "cell_type": "code",
   "execution_count": null,
   "id": "d87c19cd-5c78-4491-b745-72fb3a2ed624",
   "metadata": {},
   "outputs": [],
   "source": []
  }
 ],
 "metadata": {
  "kernelspec": {
   "display_name": "pytorch_py3",
   "language": "python",
   "name": "conda_pytorch_py3"
  },
  "language_info": {
   "file_extension": ".py",
   "mimetype": "text/x-python",
   "name": "python",
   "version": "3.6.15"
  }
 },
 "nbformat": 4,
 "nbformat_minor": 5
}
