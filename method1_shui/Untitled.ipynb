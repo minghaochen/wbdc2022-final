{
 "cells": [
  {
   "cell_type": "code",
   "execution_count": 10,
   "id": "2bc542dd-fd63-4eaa-80d1-99d37b95a0d1",
   "metadata": {},
   "outputs": [],
   "source": [
    "from transformers import BertTokenizer, BertConfig, BertModel"
   ]
  },
  {
   "cell_type": "code",
   "execution_count": null,
   "id": "fa8a48f5-f088-440b-9bf4-4b8ac17cc5b9",
   "metadata": {},
   "outputs": [],
   "source": [
    "# !pip install -i https://mirrors.cloud.tencent.com/pypi/simple transformers"
   ]
  },
  {
   "cell_type": "code",
   "execution_count": 3,
   "id": "7df74236-1615-4622-bcfb-69a4dbe55f4a",
   "metadata": {},
   "outputs": [],
   "source": [
    "tokenizer = BertTokenizer.from_pretrained('./opensource_models/chinese-roberta-wwm-ext', use_fast=True)"
   ]
  },
  {
   "cell_type": "code",
   "execution_count": 11,
   "id": "ea90b94f-455e-466f-a22a-0a556a1b7843",
   "metadata": {
    "tags": []
   },
   "outputs": [
    {
     "name": "stderr",
     "output_type": "stream",
     "text": [
      "Some weights of the model checkpoint at ./opensource_models/chinese-roberta-wwm-ext were not used when initializing BertModel: ['cls.predictions.transform.dense.weight', 'cls.predictions.transform.LayerNorm.bias', 'cls.predictions.decoder.weight', 'cls.predictions.decoder.bias', 'cls.predictions.bias', 'cls.seq_relationship.bias', 'cls.seq_relationship.weight', 'cls.predictions.transform.dense.bias', 'cls.predictions.transform.LayerNorm.weight']\n",
      "- This IS expected if you are initializing BertModel from the checkpoint of a model trained on another task or with another architecture (e.g. initializing a BertForSequenceClassification model from a BertForPreTraining model).\n",
      "- This IS NOT expected if you are initializing BertModel from the checkpoint of a model that you expect to be exactly identical (initializing a BertForSequenceClassification model from a BertForSequenceClassification model).\n"
     ]
    }
   ],
   "source": [
    "uni_bert_cfg = BertConfig.from_pretrained(f'./opensource_models/chinese-roberta-wwm-ext/config.json')\n",
    "roberta = BertModel.from_pretrained('./opensource_models/chinese-roberta-wwm-ext', config=uni_bert_cfg)"
   ]
  },
  {
   "cell_type": "code",
   "execution_count": 12,
   "id": "34f9b90f-c36a-49da-a677-6083e2b95cf8",
   "metadata": {
    "collapsed": true,
    "jupyter": {
     "outputs_hidden": true
    },
    "tags": []
   },
   "outputs": [
    {
     "name": "stdout",
     "output_type": "stream",
     "text": [
      "embeddings.word_embeddings.weight : torch.Size([21128, 768])\n",
      "embeddings.position_embeddings.weight : torch.Size([512, 768])\n",
      "embeddings.token_type_embeddings.weight : torch.Size([2, 768])\n",
      "embeddings.LayerNorm.weight : torch.Size([768])\n",
      "embeddings.LayerNorm.bias : torch.Size([768])\n",
      "encoder.layer.0.attention.self.query.weight : torch.Size([768, 768])\n",
      "encoder.layer.0.attention.self.query.bias : torch.Size([768])\n",
      "encoder.layer.0.attention.self.key.weight : torch.Size([768, 768])\n",
      "encoder.layer.0.attention.self.key.bias : torch.Size([768])\n",
      "encoder.layer.0.attention.self.value.weight : torch.Size([768, 768])\n",
      "encoder.layer.0.attention.self.value.bias : torch.Size([768])\n",
      "encoder.layer.0.attention.output.dense.weight : torch.Size([768, 768])\n",
      "encoder.layer.0.attention.output.dense.bias : torch.Size([768])\n",
      "encoder.layer.0.attention.output.LayerNorm.weight : torch.Size([768])\n",
      "encoder.layer.0.attention.output.LayerNorm.bias : torch.Size([768])\n",
      "encoder.layer.0.intermediate.dense.weight : torch.Size([3072, 768])\n",
      "encoder.layer.0.intermediate.dense.bias : torch.Size([3072])\n",
      "encoder.layer.0.output.dense.weight : torch.Size([768, 3072])\n",
      "encoder.layer.0.output.dense.bias : torch.Size([768])\n",
      "encoder.layer.0.output.LayerNorm.weight : torch.Size([768])\n",
      "encoder.layer.0.output.LayerNorm.bias : torch.Size([768])\n",
      "encoder.layer.1.attention.self.query.weight : torch.Size([768, 768])\n",
      "encoder.layer.1.attention.self.query.bias : torch.Size([768])\n",
      "encoder.layer.1.attention.self.key.weight : torch.Size([768, 768])\n",
      "encoder.layer.1.attention.self.key.bias : torch.Size([768])\n",
      "encoder.layer.1.attention.self.value.weight : torch.Size([768, 768])\n",
      "encoder.layer.1.attention.self.value.bias : torch.Size([768])\n",
      "encoder.layer.1.attention.output.dense.weight : torch.Size([768, 768])\n",
      "encoder.layer.1.attention.output.dense.bias : torch.Size([768])\n",
      "encoder.layer.1.attention.output.LayerNorm.weight : torch.Size([768])\n",
      "encoder.layer.1.attention.output.LayerNorm.bias : torch.Size([768])\n",
      "encoder.layer.1.intermediate.dense.weight : torch.Size([3072, 768])\n",
      "encoder.layer.1.intermediate.dense.bias : torch.Size([3072])\n",
      "encoder.layer.1.output.dense.weight : torch.Size([768, 3072])\n",
      "encoder.layer.1.output.dense.bias : torch.Size([768])\n",
      "encoder.layer.1.output.LayerNorm.weight : torch.Size([768])\n",
      "encoder.layer.1.output.LayerNorm.bias : torch.Size([768])\n",
      "encoder.layer.2.attention.self.query.weight : torch.Size([768, 768])\n",
      "encoder.layer.2.attention.self.query.bias : torch.Size([768])\n",
      "encoder.layer.2.attention.self.key.weight : torch.Size([768, 768])\n",
      "encoder.layer.2.attention.self.key.bias : torch.Size([768])\n",
      "encoder.layer.2.attention.self.value.weight : torch.Size([768, 768])\n",
      "encoder.layer.2.attention.self.value.bias : torch.Size([768])\n",
      "encoder.layer.2.attention.output.dense.weight : torch.Size([768, 768])\n",
      "encoder.layer.2.attention.output.dense.bias : torch.Size([768])\n",
      "encoder.layer.2.attention.output.LayerNorm.weight : torch.Size([768])\n",
      "encoder.layer.2.attention.output.LayerNorm.bias : torch.Size([768])\n",
      "encoder.layer.2.intermediate.dense.weight : torch.Size([3072, 768])\n",
      "encoder.layer.2.intermediate.dense.bias : torch.Size([3072])\n",
      "encoder.layer.2.output.dense.weight : torch.Size([768, 3072])\n",
      "encoder.layer.2.output.dense.bias : torch.Size([768])\n",
      "encoder.layer.2.output.LayerNorm.weight : torch.Size([768])\n",
      "encoder.layer.2.output.LayerNorm.bias : torch.Size([768])\n",
      "encoder.layer.3.attention.self.query.weight : torch.Size([768, 768])\n",
      "encoder.layer.3.attention.self.query.bias : torch.Size([768])\n",
      "encoder.layer.3.attention.self.key.weight : torch.Size([768, 768])\n",
      "encoder.layer.3.attention.self.key.bias : torch.Size([768])\n",
      "encoder.layer.3.attention.self.value.weight : torch.Size([768, 768])\n",
      "encoder.layer.3.attention.self.value.bias : torch.Size([768])\n",
      "encoder.layer.3.attention.output.dense.weight : torch.Size([768, 768])\n",
      "encoder.layer.3.attention.output.dense.bias : torch.Size([768])\n",
      "encoder.layer.3.attention.output.LayerNorm.weight : torch.Size([768])\n",
      "encoder.layer.3.attention.output.LayerNorm.bias : torch.Size([768])\n",
      "encoder.layer.3.intermediate.dense.weight : torch.Size([3072, 768])\n",
      "encoder.layer.3.intermediate.dense.bias : torch.Size([3072])\n",
      "encoder.layer.3.output.dense.weight : torch.Size([768, 3072])\n",
      "encoder.layer.3.output.dense.bias : torch.Size([768])\n",
      "encoder.layer.3.output.LayerNorm.weight : torch.Size([768])\n",
      "encoder.layer.3.output.LayerNorm.bias : torch.Size([768])\n",
      "encoder.layer.4.attention.self.query.weight : torch.Size([768, 768])\n",
      "encoder.layer.4.attention.self.query.bias : torch.Size([768])\n",
      "encoder.layer.4.attention.self.key.weight : torch.Size([768, 768])\n",
      "encoder.layer.4.attention.self.key.bias : torch.Size([768])\n",
      "encoder.layer.4.attention.self.value.weight : torch.Size([768, 768])\n",
      "encoder.layer.4.attention.self.value.bias : torch.Size([768])\n",
      "encoder.layer.4.attention.output.dense.weight : torch.Size([768, 768])\n",
      "encoder.layer.4.attention.output.dense.bias : torch.Size([768])\n",
      "encoder.layer.4.attention.output.LayerNorm.weight : torch.Size([768])\n",
      "encoder.layer.4.attention.output.LayerNorm.bias : torch.Size([768])\n",
      "encoder.layer.4.intermediate.dense.weight : torch.Size([3072, 768])\n",
      "encoder.layer.4.intermediate.dense.bias : torch.Size([3072])\n",
      "encoder.layer.4.output.dense.weight : torch.Size([768, 3072])\n",
      "encoder.layer.4.output.dense.bias : torch.Size([768])\n",
      "encoder.layer.4.output.LayerNorm.weight : torch.Size([768])\n",
      "encoder.layer.4.output.LayerNorm.bias : torch.Size([768])\n",
      "encoder.layer.5.attention.self.query.weight : torch.Size([768, 768])\n",
      "encoder.layer.5.attention.self.query.bias : torch.Size([768])\n",
      "encoder.layer.5.attention.self.key.weight : torch.Size([768, 768])\n",
      "encoder.layer.5.attention.self.key.bias : torch.Size([768])\n",
      "encoder.layer.5.attention.self.value.weight : torch.Size([768, 768])\n",
      "encoder.layer.5.attention.self.value.bias : torch.Size([768])\n",
      "encoder.layer.5.attention.output.dense.weight : torch.Size([768, 768])\n",
      "encoder.layer.5.attention.output.dense.bias : torch.Size([768])\n",
      "encoder.layer.5.attention.output.LayerNorm.weight : torch.Size([768])\n",
      "encoder.layer.5.attention.output.LayerNorm.bias : torch.Size([768])\n",
      "encoder.layer.5.intermediate.dense.weight : torch.Size([3072, 768])\n",
      "encoder.layer.5.intermediate.dense.bias : torch.Size([3072])\n",
      "encoder.layer.5.output.dense.weight : torch.Size([768, 3072])\n",
      "encoder.layer.5.output.dense.bias : torch.Size([768])\n",
      "encoder.layer.5.output.LayerNorm.weight : torch.Size([768])\n",
      "encoder.layer.5.output.LayerNorm.bias : torch.Size([768])\n",
      "encoder.layer.6.attention.self.query.weight : torch.Size([768, 768])\n",
      "encoder.layer.6.attention.self.query.bias : torch.Size([768])\n",
      "encoder.layer.6.attention.self.key.weight : torch.Size([768, 768])\n",
      "encoder.layer.6.attention.self.key.bias : torch.Size([768])\n",
      "encoder.layer.6.attention.self.value.weight : torch.Size([768, 768])\n",
      "encoder.layer.6.attention.self.value.bias : torch.Size([768])\n",
      "encoder.layer.6.attention.output.dense.weight : torch.Size([768, 768])\n",
      "encoder.layer.6.attention.output.dense.bias : torch.Size([768])\n",
      "encoder.layer.6.attention.output.LayerNorm.weight : torch.Size([768])\n",
      "encoder.layer.6.attention.output.LayerNorm.bias : torch.Size([768])\n",
      "encoder.layer.6.intermediate.dense.weight : torch.Size([3072, 768])\n",
      "encoder.layer.6.intermediate.dense.bias : torch.Size([3072])\n",
      "encoder.layer.6.output.dense.weight : torch.Size([768, 3072])\n",
      "encoder.layer.6.output.dense.bias : torch.Size([768])\n",
      "encoder.layer.6.output.LayerNorm.weight : torch.Size([768])\n",
      "encoder.layer.6.output.LayerNorm.bias : torch.Size([768])\n",
      "encoder.layer.7.attention.self.query.weight : torch.Size([768, 768])\n",
      "encoder.layer.7.attention.self.query.bias : torch.Size([768])\n",
      "encoder.layer.7.attention.self.key.weight : torch.Size([768, 768])\n",
      "encoder.layer.7.attention.self.key.bias : torch.Size([768])\n",
      "encoder.layer.7.attention.self.value.weight : torch.Size([768, 768])\n",
      "encoder.layer.7.attention.self.value.bias : torch.Size([768])\n",
      "encoder.layer.7.attention.output.dense.weight : torch.Size([768, 768])\n",
      "encoder.layer.7.attention.output.dense.bias : torch.Size([768])\n",
      "encoder.layer.7.attention.output.LayerNorm.weight : torch.Size([768])\n",
      "encoder.layer.7.attention.output.LayerNorm.bias : torch.Size([768])\n",
      "encoder.layer.7.intermediate.dense.weight : torch.Size([3072, 768])\n",
      "encoder.layer.7.intermediate.dense.bias : torch.Size([3072])\n",
      "encoder.layer.7.output.dense.weight : torch.Size([768, 3072])\n",
      "encoder.layer.7.output.dense.bias : torch.Size([768])\n",
      "encoder.layer.7.output.LayerNorm.weight : torch.Size([768])\n",
      "encoder.layer.7.output.LayerNorm.bias : torch.Size([768])\n",
      "encoder.layer.8.attention.self.query.weight : torch.Size([768, 768])\n",
      "encoder.layer.8.attention.self.query.bias : torch.Size([768])\n",
      "encoder.layer.8.attention.self.key.weight : torch.Size([768, 768])\n",
      "encoder.layer.8.attention.self.key.bias : torch.Size([768])\n",
      "encoder.layer.8.attention.self.value.weight : torch.Size([768, 768])\n",
      "encoder.layer.8.attention.self.value.bias : torch.Size([768])\n",
      "encoder.layer.8.attention.output.dense.weight : torch.Size([768, 768])\n",
      "encoder.layer.8.attention.output.dense.bias : torch.Size([768])\n",
      "encoder.layer.8.attention.output.LayerNorm.weight : torch.Size([768])\n",
      "encoder.layer.8.attention.output.LayerNorm.bias : torch.Size([768])\n",
      "encoder.layer.8.intermediate.dense.weight : torch.Size([3072, 768])\n",
      "encoder.layer.8.intermediate.dense.bias : torch.Size([3072])\n",
      "encoder.layer.8.output.dense.weight : torch.Size([768, 3072])\n",
      "encoder.layer.8.output.dense.bias : torch.Size([768])\n",
      "encoder.layer.8.output.LayerNorm.weight : torch.Size([768])\n",
      "encoder.layer.8.output.LayerNorm.bias : torch.Size([768])\n",
      "encoder.layer.9.attention.self.query.weight : torch.Size([768, 768])\n",
      "encoder.layer.9.attention.self.query.bias : torch.Size([768])\n",
      "encoder.layer.9.attention.self.key.weight : torch.Size([768, 768])\n",
      "encoder.layer.9.attention.self.key.bias : torch.Size([768])\n",
      "encoder.layer.9.attention.self.value.weight : torch.Size([768, 768])\n",
      "encoder.layer.9.attention.self.value.bias : torch.Size([768])\n",
      "encoder.layer.9.attention.output.dense.weight : torch.Size([768, 768])\n",
      "encoder.layer.9.attention.output.dense.bias : torch.Size([768])\n",
      "encoder.layer.9.attention.output.LayerNorm.weight : torch.Size([768])\n",
      "encoder.layer.9.attention.output.LayerNorm.bias : torch.Size([768])\n",
      "encoder.layer.9.intermediate.dense.weight : torch.Size([3072, 768])\n",
      "encoder.layer.9.intermediate.dense.bias : torch.Size([3072])\n",
      "encoder.layer.9.output.dense.weight : torch.Size([768, 3072])\n",
      "encoder.layer.9.output.dense.bias : torch.Size([768])\n",
      "encoder.layer.9.output.LayerNorm.weight : torch.Size([768])\n",
      "encoder.layer.9.output.LayerNorm.bias : torch.Size([768])\n",
      "encoder.layer.10.attention.self.query.weight : torch.Size([768, 768])\n",
      "encoder.layer.10.attention.self.query.bias : torch.Size([768])\n",
      "encoder.layer.10.attention.self.key.weight : torch.Size([768, 768])\n",
      "encoder.layer.10.attention.self.key.bias : torch.Size([768])\n",
      "encoder.layer.10.attention.self.value.weight : torch.Size([768, 768])\n",
      "encoder.layer.10.attention.self.value.bias : torch.Size([768])\n",
      "encoder.layer.10.attention.output.dense.weight : torch.Size([768, 768])\n",
      "encoder.layer.10.attention.output.dense.bias : torch.Size([768])\n",
      "encoder.layer.10.attention.output.LayerNorm.weight : torch.Size([768])\n",
      "encoder.layer.10.attention.output.LayerNorm.bias : torch.Size([768])\n",
      "encoder.layer.10.intermediate.dense.weight : torch.Size([3072, 768])\n",
      "encoder.layer.10.intermediate.dense.bias : torch.Size([3072])\n",
      "encoder.layer.10.output.dense.weight : torch.Size([768, 3072])\n",
      "encoder.layer.10.output.dense.bias : torch.Size([768])\n",
      "encoder.layer.10.output.LayerNorm.weight : torch.Size([768])\n",
      "encoder.layer.10.output.LayerNorm.bias : torch.Size([768])\n",
      "encoder.layer.11.attention.self.query.weight : torch.Size([768, 768])\n",
      "encoder.layer.11.attention.self.query.bias : torch.Size([768])\n",
      "encoder.layer.11.attention.self.key.weight : torch.Size([768, 768])\n",
      "encoder.layer.11.attention.self.key.bias : torch.Size([768])\n",
      "encoder.layer.11.attention.self.value.weight : torch.Size([768, 768])\n",
      "encoder.layer.11.attention.self.value.bias : torch.Size([768])\n",
      "encoder.layer.11.attention.output.dense.weight : torch.Size([768, 768])\n",
      "encoder.layer.11.attention.output.dense.bias : torch.Size([768])\n",
      "encoder.layer.11.attention.output.LayerNorm.weight : torch.Size([768])\n",
      "encoder.layer.11.attention.output.LayerNorm.bias : torch.Size([768])\n",
      "encoder.layer.11.intermediate.dense.weight : torch.Size([3072, 768])\n",
      "encoder.layer.11.intermediate.dense.bias : torch.Size([3072])\n",
      "encoder.layer.11.output.dense.weight : torch.Size([768, 3072])\n",
      "encoder.layer.11.output.dense.bias : torch.Size([768])\n",
      "encoder.layer.11.output.LayerNorm.weight : torch.Size([768])\n",
      "encoder.layer.11.output.LayerNorm.bias : torch.Size([768])\n",
      "pooler.dense.weight : torch.Size([768, 768])\n",
      "pooler.dense.bias : torch.Size([768])\n"
     ]
    }
   ],
   "source": [
    "for name,parameters in roberta.named_parameters():\n",
    "    print(name,':',parameters.size())"
   ]
  },
  {
   "cell_type": "code",
   "execution_count": 27,
   "id": "307559cf-4e56-4838-bbc9-7c1da7e168f4",
   "metadata": {},
   "outputs": [
    {
     "name": "stdout",
     "output_type": "stream",
     "text": [
      "Parameter containing:\n",
      "tensor([[ 0.0793,  0.0618,  0.0060,  ...,  0.0747, -0.0021, -0.0419],\n",
      "        [-0.0290, -0.0252,  0.0010,  ...,  0.0236, -0.0013,  0.0130],\n",
      "        [-0.0425,  0.0177, -0.0039,  ...,  0.0832,  0.0110,  0.0326],\n",
      "        ...,\n",
      "        [-0.0897,  0.0308, -0.0503,  ...,  0.0606,  0.0597,  0.0533],\n",
      "        [-0.0537, -0.0717, -0.0139,  ..., -0.0276,  0.0464, -0.0401],\n",
      "        [ 0.0033, -0.0356,  0.0059,  ...,  0.1179, -0.0157, -0.0453]],\n",
      "       requires_grad=True)\n"
     ]
    }
   ],
   "source": [
    "for name,parameters in roberta.named_parameters():\n",
    "    if name == 'encoder.layer.0.attention.self.query.weight':\n",
    "        print(parameters)"
   ]
  },
  {
   "cell_type": "code",
   "execution_count": 21,
   "id": "83a30a1a-b13f-4cbb-90d3-f7f173de6178",
   "metadata": {},
   "outputs": [
    {
     "name": "stderr",
     "output_type": "stream",
     "text": [
      "Some weights of the model checkpoint at ./opensource_models/chinese-roberta-wwm-ext were not used when initializing UniBertForMaskedLM: ['cls.seq_relationship.weight', 'cls.seq_relationship.bias', 'bert.pooler.dense.bias', 'bert.pooler.dense.weight']\n",
      "- This IS expected if you are initializing UniBertForMaskedLM from the checkpoint of a model trained on another task or with another architecture (e.g. initializing a BertForSequenceClassification model from a BertForPreTraining model).\n",
      "- This IS NOT expected if you are initializing UniBertForMaskedLM from the checkpoint of a model that you expect to be exactly identical (initializing a BertForSequenceClassification model from a BertForSequenceClassification model).\n",
      "Some weights of UniBertForMaskedLM were not initialized from the model checkpoint at ./opensource_models/chinese-roberta-wwm-ext and are newly initialized: ['bert.video_dense.bias', 'bert.video_dense.weight']\n",
      "You should probably TRAIN this model on a down-stream task to be able to use it for predictions and inference.\n"
     ]
    }
   ],
   "source": [
    "uni_bert_cfg = BertConfig.from_pretrained(f'./opensource_models/chinese-roberta-wwm-ext/config.json')\n",
    "roberta2 = UniBertForMaskedLM.from_pretrained('./opensource_models/chinese-roberta-wwm-ext', config=uni_bert_cfg)"
   ]
  },
  {
   "cell_type": "code",
   "execution_count": 24,
   "id": "26457283-b5a7-48c6-8763-1141cd85c470",
   "metadata": {
    "collapsed": true,
    "jupyter": {
     "outputs_hidden": true
    },
    "tags": []
   },
   "outputs": [
    {
     "name": "stdout",
     "output_type": "stream",
     "text": [
      "bert.embeddings.word_embeddings.weight : torch.Size([21128, 768])\n",
      "bert.embeddings.position_embeddings.weight : torch.Size([512, 768])\n",
      "bert.embeddings.token_type_embeddings.weight : torch.Size([2, 768])\n",
      "bert.embeddings.LayerNorm.weight : torch.Size([768])\n",
      "bert.embeddings.LayerNorm.bias : torch.Size([768])\n",
      "bert.video_dense.weight : torch.Size([768, 768])\n",
      "bert.video_dense.bias : torch.Size([768])\n",
      "bert.encoder.layer.0.attention.self.query.weight : torch.Size([768, 768])\n",
      "bert.encoder.layer.0.attention.self.query.bias : torch.Size([768])\n",
      "bert.encoder.layer.0.attention.self.key.weight : torch.Size([768, 768])\n",
      "bert.encoder.layer.0.attention.self.key.bias : torch.Size([768])\n",
      "bert.encoder.layer.0.attention.self.value.weight : torch.Size([768, 768])\n",
      "bert.encoder.layer.0.attention.self.value.bias : torch.Size([768])\n",
      "bert.encoder.layer.0.attention.output.dense.weight : torch.Size([768, 768])\n",
      "bert.encoder.layer.0.attention.output.dense.bias : torch.Size([768])\n",
      "bert.encoder.layer.0.attention.output.LayerNorm.weight : torch.Size([768])\n",
      "bert.encoder.layer.0.attention.output.LayerNorm.bias : torch.Size([768])\n",
      "bert.encoder.layer.0.intermediate.dense.weight : torch.Size([3072, 768])\n",
      "bert.encoder.layer.0.intermediate.dense.bias : torch.Size([3072])\n",
      "bert.encoder.layer.0.output.dense.weight : torch.Size([768, 3072])\n",
      "bert.encoder.layer.0.output.dense.bias : torch.Size([768])\n",
      "bert.encoder.layer.0.output.LayerNorm.weight : torch.Size([768])\n",
      "bert.encoder.layer.0.output.LayerNorm.bias : torch.Size([768])\n",
      "bert.encoder.layer.1.attention.self.query.weight : torch.Size([768, 768])\n",
      "bert.encoder.layer.1.attention.self.query.bias : torch.Size([768])\n",
      "bert.encoder.layer.1.attention.self.key.weight : torch.Size([768, 768])\n",
      "bert.encoder.layer.1.attention.self.key.bias : torch.Size([768])\n",
      "bert.encoder.layer.1.attention.self.value.weight : torch.Size([768, 768])\n",
      "bert.encoder.layer.1.attention.self.value.bias : torch.Size([768])\n",
      "bert.encoder.layer.1.attention.output.dense.weight : torch.Size([768, 768])\n",
      "bert.encoder.layer.1.attention.output.dense.bias : torch.Size([768])\n",
      "bert.encoder.layer.1.attention.output.LayerNorm.weight : torch.Size([768])\n",
      "bert.encoder.layer.1.attention.output.LayerNorm.bias : torch.Size([768])\n",
      "bert.encoder.layer.1.intermediate.dense.weight : torch.Size([3072, 768])\n",
      "bert.encoder.layer.1.intermediate.dense.bias : torch.Size([3072])\n",
      "bert.encoder.layer.1.output.dense.weight : torch.Size([768, 3072])\n",
      "bert.encoder.layer.1.output.dense.bias : torch.Size([768])\n",
      "bert.encoder.layer.1.output.LayerNorm.weight : torch.Size([768])\n",
      "bert.encoder.layer.1.output.LayerNorm.bias : torch.Size([768])\n",
      "bert.encoder.layer.2.attention.self.query.weight : torch.Size([768, 768])\n",
      "bert.encoder.layer.2.attention.self.query.bias : torch.Size([768])\n",
      "bert.encoder.layer.2.attention.self.key.weight : torch.Size([768, 768])\n",
      "bert.encoder.layer.2.attention.self.key.bias : torch.Size([768])\n",
      "bert.encoder.layer.2.attention.self.value.weight : torch.Size([768, 768])\n",
      "bert.encoder.layer.2.attention.self.value.bias : torch.Size([768])\n",
      "bert.encoder.layer.2.attention.output.dense.weight : torch.Size([768, 768])\n",
      "bert.encoder.layer.2.attention.output.dense.bias : torch.Size([768])\n",
      "bert.encoder.layer.2.attention.output.LayerNorm.weight : torch.Size([768])\n",
      "bert.encoder.layer.2.attention.output.LayerNorm.bias : torch.Size([768])\n",
      "bert.encoder.layer.2.intermediate.dense.weight : torch.Size([3072, 768])\n",
      "bert.encoder.layer.2.intermediate.dense.bias : torch.Size([3072])\n",
      "bert.encoder.layer.2.output.dense.weight : torch.Size([768, 3072])\n",
      "bert.encoder.layer.2.output.dense.bias : torch.Size([768])\n",
      "bert.encoder.layer.2.output.LayerNorm.weight : torch.Size([768])\n",
      "bert.encoder.layer.2.output.LayerNorm.bias : torch.Size([768])\n",
      "bert.encoder.layer.3.attention.self.query.weight : torch.Size([768, 768])\n",
      "bert.encoder.layer.3.attention.self.query.bias : torch.Size([768])\n",
      "bert.encoder.layer.3.attention.self.key.weight : torch.Size([768, 768])\n",
      "bert.encoder.layer.3.attention.self.key.bias : torch.Size([768])\n",
      "bert.encoder.layer.3.attention.self.value.weight : torch.Size([768, 768])\n",
      "bert.encoder.layer.3.attention.self.value.bias : torch.Size([768])\n",
      "bert.encoder.layer.3.attention.output.dense.weight : torch.Size([768, 768])\n",
      "bert.encoder.layer.3.attention.output.dense.bias : torch.Size([768])\n",
      "bert.encoder.layer.3.attention.output.LayerNorm.weight : torch.Size([768])\n",
      "bert.encoder.layer.3.attention.output.LayerNorm.bias : torch.Size([768])\n",
      "bert.encoder.layer.3.intermediate.dense.weight : torch.Size([3072, 768])\n",
      "bert.encoder.layer.3.intermediate.dense.bias : torch.Size([3072])\n",
      "bert.encoder.layer.3.output.dense.weight : torch.Size([768, 3072])\n",
      "bert.encoder.layer.3.output.dense.bias : torch.Size([768])\n",
      "bert.encoder.layer.3.output.LayerNorm.weight : torch.Size([768])\n",
      "bert.encoder.layer.3.output.LayerNorm.bias : torch.Size([768])\n",
      "bert.encoder.layer.4.attention.self.query.weight : torch.Size([768, 768])\n",
      "bert.encoder.layer.4.attention.self.query.bias : torch.Size([768])\n",
      "bert.encoder.layer.4.attention.self.key.weight : torch.Size([768, 768])\n",
      "bert.encoder.layer.4.attention.self.key.bias : torch.Size([768])\n",
      "bert.encoder.layer.4.attention.self.value.weight : torch.Size([768, 768])\n",
      "bert.encoder.layer.4.attention.self.value.bias : torch.Size([768])\n",
      "bert.encoder.layer.4.attention.output.dense.weight : torch.Size([768, 768])\n",
      "bert.encoder.layer.4.attention.output.dense.bias : torch.Size([768])\n",
      "bert.encoder.layer.4.attention.output.LayerNorm.weight : torch.Size([768])\n",
      "bert.encoder.layer.4.attention.output.LayerNorm.bias : torch.Size([768])\n",
      "bert.encoder.layer.4.intermediate.dense.weight : torch.Size([3072, 768])\n",
      "bert.encoder.layer.4.intermediate.dense.bias : torch.Size([3072])\n",
      "bert.encoder.layer.4.output.dense.weight : torch.Size([768, 3072])\n",
      "bert.encoder.layer.4.output.dense.bias : torch.Size([768])\n",
      "bert.encoder.layer.4.output.LayerNorm.weight : torch.Size([768])\n",
      "bert.encoder.layer.4.output.LayerNorm.bias : torch.Size([768])\n",
      "bert.encoder.layer.5.attention.self.query.weight : torch.Size([768, 768])\n",
      "bert.encoder.layer.5.attention.self.query.bias : torch.Size([768])\n",
      "bert.encoder.layer.5.attention.self.key.weight : torch.Size([768, 768])\n",
      "bert.encoder.layer.5.attention.self.key.bias : torch.Size([768])\n",
      "bert.encoder.layer.5.attention.self.value.weight : torch.Size([768, 768])\n",
      "bert.encoder.layer.5.attention.self.value.bias : torch.Size([768])\n",
      "bert.encoder.layer.5.attention.output.dense.weight : torch.Size([768, 768])\n",
      "bert.encoder.layer.5.attention.output.dense.bias : torch.Size([768])\n",
      "bert.encoder.layer.5.attention.output.LayerNorm.weight : torch.Size([768])\n",
      "bert.encoder.layer.5.attention.output.LayerNorm.bias : torch.Size([768])\n",
      "bert.encoder.layer.5.intermediate.dense.weight : torch.Size([3072, 768])\n",
      "bert.encoder.layer.5.intermediate.dense.bias : torch.Size([3072])\n",
      "bert.encoder.layer.5.output.dense.weight : torch.Size([768, 3072])\n",
      "bert.encoder.layer.5.output.dense.bias : torch.Size([768])\n",
      "bert.encoder.layer.5.output.LayerNorm.weight : torch.Size([768])\n",
      "bert.encoder.layer.5.output.LayerNorm.bias : torch.Size([768])\n",
      "bert.encoder.layer.6.attention.self.query.weight : torch.Size([768, 768])\n",
      "bert.encoder.layer.6.attention.self.query.bias : torch.Size([768])\n",
      "bert.encoder.layer.6.attention.self.key.weight : torch.Size([768, 768])\n",
      "bert.encoder.layer.6.attention.self.key.bias : torch.Size([768])\n",
      "bert.encoder.layer.6.attention.self.value.weight : torch.Size([768, 768])\n",
      "bert.encoder.layer.6.attention.self.value.bias : torch.Size([768])\n",
      "bert.encoder.layer.6.attention.output.dense.weight : torch.Size([768, 768])\n",
      "bert.encoder.layer.6.attention.output.dense.bias : torch.Size([768])\n",
      "bert.encoder.layer.6.attention.output.LayerNorm.weight : torch.Size([768])\n",
      "bert.encoder.layer.6.attention.output.LayerNorm.bias : torch.Size([768])\n",
      "bert.encoder.layer.6.intermediate.dense.weight : torch.Size([3072, 768])\n",
      "bert.encoder.layer.6.intermediate.dense.bias : torch.Size([3072])\n",
      "bert.encoder.layer.6.output.dense.weight : torch.Size([768, 3072])\n",
      "bert.encoder.layer.6.output.dense.bias : torch.Size([768])\n",
      "bert.encoder.layer.6.output.LayerNorm.weight : torch.Size([768])\n",
      "bert.encoder.layer.6.output.LayerNorm.bias : torch.Size([768])\n",
      "bert.encoder.layer.7.attention.self.query.weight : torch.Size([768, 768])\n",
      "bert.encoder.layer.7.attention.self.query.bias : torch.Size([768])\n",
      "bert.encoder.layer.7.attention.self.key.weight : torch.Size([768, 768])\n",
      "bert.encoder.layer.7.attention.self.key.bias : torch.Size([768])\n",
      "bert.encoder.layer.7.attention.self.value.weight : torch.Size([768, 768])\n",
      "bert.encoder.layer.7.attention.self.value.bias : torch.Size([768])\n",
      "bert.encoder.layer.7.attention.output.dense.weight : torch.Size([768, 768])\n",
      "bert.encoder.layer.7.attention.output.dense.bias : torch.Size([768])\n",
      "bert.encoder.layer.7.attention.output.LayerNorm.weight : torch.Size([768])\n",
      "bert.encoder.layer.7.attention.output.LayerNorm.bias : torch.Size([768])\n",
      "bert.encoder.layer.7.intermediate.dense.weight : torch.Size([3072, 768])\n",
      "bert.encoder.layer.7.intermediate.dense.bias : torch.Size([3072])\n",
      "bert.encoder.layer.7.output.dense.weight : torch.Size([768, 3072])\n",
      "bert.encoder.layer.7.output.dense.bias : torch.Size([768])\n",
      "bert.encoder.layer.7.output.LayerNorm.weight : torch.Size([768])\n",
      "bert.encoder.layer.7.output.LayerNorm.bias : torch.Size([768])\n",
      "bert.encoder.layer.8.attention.self.query.weight : torch.Size([768, 768])\n",
      "bert.encoder.layer.8.attention.self.query.bias : torch.Size([768])\n",
      "bert.encoder.layer.8.attention.self.key.weight : torch.Size([768, 768])\n",
      "bert.encoder.layer.8.attention.self.key.bias : torch.Size([768])\n",
      "bert.encoder.layer.8.attention.self.value.weight : torch.Size([768, 768])\n",
      "bert.encoder.layer.8.attention.self.value.bias : torch.Size([768])\n",
      "bert.encoder.layer.8.attention.output.dense.weight : torch.Size([768, 768])\n",
      "bert.encoder.layer.8.attention.output.dense.bias : torch.Size([768])\n",
      "bert.encoder.layer.8.attention.output.LayerNorm.weight : torch.Size([768])\n",
      "bert.encoder.layer.8.attention.output.LayerNorm.bias : torch.Size([768])\n",
      "bert.encoder.layer.8.intermediate.dense.weight : torch.Size([3072, 768])\n",
      "bert.encoder.layer.8.intermediate.dense.bias : torch.Size([3072])\n",
      "bert.encoder.layer.8.output.dense.weight : torch.Size([768, 3072])\n",
      "bert.encoder.layer.8.output.dense.bias : torch.Size([768])\n",
      "bert.encoder.layer.8.output.LayerNorm.weight : torch.Size([768])\n",
      "bert.encoder.layer.8.output.LayerNorm.bias : torch.Size([768])\n",
      "bert.encoder.layer.9.attention.self.query.weight : torch.Size([768, 768])\n",
      "bert.encoder.layer.9.attention.self.query.bias : torch.Size([768])\n",
      "bert.encoder.layer.9.attention.self.key.weight : torch.Size([768, 768])\n",
      "bert.encoder.layer.9.attention.self.key.bias : torch.Size([768])\n",
      "bert.encoder.layer.9.attention.self.value.weight : torch.Size([768, 768])\n",
      "bert.encoder.layer.9.attention.self.value.bias : torch.Size([768])\n",
      "bert.encoder.layer.9.attention.output.dense.weight : torch.Size([768, 768])\n",
      "bert.encoder.layer.9.attention.output.dense.bias : torch.Size([768])\n",
      "bert.encoder.layer.9.attention.output.LayerNorm.weight : torch.Size([768])\n",
      "bert.encoder.layer.9.attention.output.LayerNorm.bias : torch.Size([768])\n",
      "bert.encoder.layer.9.intermediate.dense.weight : torch.Size([3072, 768])\n",
      "bert.encoder.layer.9.intermediate.dense.bias : torch.Size([3072])\n",
      "bert.encoder.layer.9.output.dense.weight : torch.Size([768, 3072])\n",
      "bert.encoder.layer.9.output.dense.bias : torch.Size([768])\n",
      "bert.encoder.layer.9.output.LayerNorm.weight : torch.Size([768])\n",
      "bert.encoder.layer.9.output.LayerNorm.bias : torch.Size([768])\n",
      "bert.encoder.layer.10.attention.self.query.weight : torch.Size([768, 768])\n",
      "bert.encoder.layer.10.attention.self.query.bias : torch.Size([768])\n",
      "bert.encoder.layer.10.attention.self.key.weight : torch.Size([768, 768])\n",
      "bert.encoder.layer.10.attention.self.key.bias : torch.Size([768])\n",
      "bert.encoder.layer.10.attention.self.value.weight : torch.Size([768, 768])\n",
      "bert.encoder.layer.10.attention.self.value.bias : torch.Size([768])\n",
      "bert.encoder.layer.10.attention.output.dense.weight : torch.Size([768, 768])\n",
      "bert.encoder.layer.10.attention.output.dense.bias : torch.Size([768])\n",
      "bert.encoder.layer.10.attention.output.LayerNorm.weight : torch.Size([768])\n",
      "bert.encoder.layer.10.attention.output.LayerNorm.bias : torch.Size([768])\n",
      "bert.encoder.layer.10.intermediate.dense.weight : torch.Size([3072, 768])\n",
      "bert.encoder.layer.10.intermediate.dense.bias : torch.Size([3072])\n",
      "bert.encoder.layer.10.output.dense.weight : torch.Size([768, 3072])\n",
      "bert.encoder.layer.10.output.dense.bias : torch.Size([768])\n",
      "bert.encoder.layer.10.output.LayerNorm.weight : torch.Size([768])\n",
      "bert.encoder.layer.10.output.LayerNorm.bias : torch.Size([768])\n",
      "bert.encoder.layer.11.attention.self.query.weight : torch.Size([768, 768])\n",
      "bert.encoder.layer.11.attention.self.query.bias : torch.Size([768])\n",
      "bert.encoder.layer.11.attention.self.key.weight : torch.Size([768, 768])\n",
      "bert.encoder.layer.11.attention.self.key.bias : torch.Size([768])\n",
      "bert.encoder.layer.11.attention.self.value.weight : torch.Size([768, 768])\n",
      "bert.encoder.layer.11.attention.self.value.bias : torch.Size([768])\n",
      "bert.encoder.layer.11.attention.output.dense.weight : torch.Size([768, 768])\n",
      "bert.encoder.layer.11.attention.output.dense.bias : torch.Size([768])\n",
      "bert.encoder.layer.11.attention.output.LayerNorm.weight : torch.Size([768])\n",
      "bert.encoder.layer.11.attention.output.LayerNorm.bias : torch.Size([768])\n",
      "bert.encoder.layer.11.intermediate.dense.weight : torch.Size([3072, 768])\n",
      "bert.encoder.layer.11.intermediate.dense.bias : torch.Size([3072])\n",
      "bert.encoder.layer.11.output.dense.weight : torch.Size([768, 3072])\n",
      "bert.encoder.layer.11.output.dense.bias : torch.Size([768])\n",
      "bert.encoder.layer.11.output.LayerNorm.weight : torch.Size([768])\n",
      "bert.encoder.layer.11.output.LayerNorm.bias : torch.Size([768])\n",
      "cls.predictions.bias : torch.Size([21128])\n",
      "cls.predictions.transform.dense.weight : torch.Size([768, 768])\n",
      "cls.predictions.transform.dense.bias : torch.Size([768])\n",
      "cls.predictions.transform.LayerNorm.weight : torch.Size([768])\n",
      "cls.predictions.transform.LayerNorm.bias : torch.Size([768])\n",
      "cls.predictions.decoder.weight : torch.Size([21128, 768])\n"
     ]
    }
   ],
   "source": [
    "for name,parameters in roberta2.named_parameters():\n",
    "    print(name,':',parameters.size())"
   ]
  },
  {
   "cell_type": "code",
   "execution_count": 28,
   "id": "91df1c13-8fa1-4973-8b9d-6e8223140b20",
   "metadata": {},
   "outputs": [
    {
     "name": "stdout",
     "output_type": "stream",
     "text": [
      "Parameter containing:\n",
      "tensor([[ 0.0793,  0.0618,  0.0060,  ...,  0.0747, -0.0021, -0.0419],\n",
      "        [-0.0290, -0.0252,  0.0010,  ...,  0.0236, -0.0013,  0.0130],\n",
      "        [-0.0425,  0.0177, -0.0039,  ...,  0.0832,  0.0110,  0.0326],\n",
      "        ...,\n",
      "        [-0.0897,  0.0308, -0.0503,  ...,  0.0606,  0.0597,  0.0533],\n",
      "        [-0.0537, -0.0717, -0.0139,  ..., -0.0276,  0.0464, -0.0401],\n",
      "        [ 0.0033, -0.0356,  0.0059,  ...,  0.1179, -0.0157, -0.0453]],\n",
      "       requires_grad=True)\n"
     ]
    }
   ],
   "source": [
    "for name,parameters in roberta2.named_parameters():\n",
    "    if name == 'bert.encoder.layer.0.attention.self.query.weight':\n",
    "        print(parameters)"
   ]
  },
  {
   "cell_type": "code",
   "execution_count": 34,
   "id": "5fd3cc89-fa1a-4ce0-9467-fea1d4318d6f",
   "metadata": {},
   "outputs": [],
   "source": [
    "encoded_titles = tokenizer('', \n",
    "                           max_length=20, \n",
    "                           padding='max_length', \n",
    "                           truncation=True, \n",
    "                           add_special_tokens=False,\n",
    "                          )"
   ]
  },
  {
   "cell_type": "code",
   "execution_count": 35,
   "id": "8be68ffe-27d6-4ac0-845d-e4edf41d5a01",
   "metadata": {},
   "outputs": [
    {
     "data": {
      "text/plain": [
       "{'input_ids': [], 'token_type_ids': [], 'attention_mask': []}"
      ]
     },
     "execution_count": 35,
     "metadata": {},
     "output_type": "execute_result"
    }
   ],
   "source": [
    "encoded_titles"
   ]
  },
  {
   "cell_type": "code",
   "execution_count": 27,
   "id": "b32cce40-d67b-42f1-a27b-dc8318c43a0e",
   "metadata": {},
   "outputs": [
    {
     "data": {
      "text/plain": [
       "(20, 20, 20)"
      ]
     },
     "execution_count": 27,
     "metadata": {},
     "output_type": "execute_result"
    }
   ],
   "source": [
    "len(encoded_titles['input_ids']), len(encoded_titles['token_type_ids']), len(encoded_titles['token_type_ids'])"
   ]
  },
  {
   "cell_type": "code",
   "execution_count": 32,
   "id": "30204768-70e3-4c7b-8750-b7b93c743f17",
   "metadata": {},
   "outputs": [
    {
     "data": {
      "text/plain": [
       "[101, 102, 0, 0, 0, 0, 0, 0, 0, 0, 0, 0, 0, 0, 0, 0, 0, 0, 0, 0]"
      ]
     },
     "execution_count": 32,
     "metadata": {},
     "output_type": "execute_result"
    }
   ],
   "source": [
    "encoded_titles['input_ids']"
   ]
  },
  {
   "cell_type": "code",
   "execution_count": 33,
   "id": "55d701dc-b6eb-4464-9a08-aa454ae1dd4a",
   "metadata": {},
   "outputs": [
    {
     "data": {
      "text/plain": [
       "[0, 0, 0, 0, 0, 0, 0, 0, 0, 0, 0, 0, 0, 0, 0, 0, 0, 0, 0, 0, 0, 0, 0, 0, 0, 0, 0, 0, 0, 0, 0, 0, 0, 0, 0, 0, 0, 0, 0, 0, 0, 0, 0, 0, 0, 0, 0, 0, 0, 0, 0, 0, 0, 0, 0, 0, 0, 0, 0, 0, 0, 0, 0, 0, 0, 0, 0, 0, 0, 0, 0, 0, 0, 0, 0, 0, 0, 0, 0, 0, 0, 0, 0, 0]"
      ]
     },
     "execution_count": 33,
     "metadata": {},
     "output_type": "execute_result"
    }
   ],
   "source": [
    "[0] * 84"
   ]
  },
  {
   "cell_type": "code",
   "execution_count": 29,
   "id": "0489ca29-7121-4c4b-8b46-dbbceddcbfcf",
   "metadata": {},
   "outputs": [],
   "source": [
    "import logging\n",
    "import os\n",
    "import time\n",
    "import torch\n",
    "import numpy as np\n",
    "\n",
    "from config import parse_args\n",
    "from data_helper.data_helper import create_dataloaders\n",
    "\n",
    "from util import setup_device, setup_seed, setup_logging, setup_pretrain, build_optimizer, evaluate, build_optimizer2\n",
    "from util import EMA, FGM\n",
    "\n",
    "from models.doublestream_model import MultiModal\n",
    "from models.singlestream_model import SingleStream_model\n",
    "from models.singlestream_with_pretrain_model import SingleStream_model_pretrain, UniBertForMaskedLM,UniBert3\n",
    "\n",
    "\n",
    "from tqdm import tqdm\n",
    "\n",
    "import warnings\n",
    "warnings.filterwarnings('ignore')"
   ]
  },
  {
   "cell_type": "code",
   "execution_count": 18,
   "id": "55ff64ec-146a-4a37-8203-0193b6f70ebd",
   "metadata": {
    "collapsed": true,
    "jupyter": {
     "outputs_hidden": true
    },
    "tags": []
   },
   "outputs": [
    {
     "name": "stdout",
     "output_type": "stream",
     "text": [
      "Defaulting to user installation because normal site-packages is not writeable\n",
      "Looking in indexes: https://mirrors.cloud.tencent.com/pypi/simple\n",
      "Collecting timm\n",
      "  Downloading https://mirrors.cloud.tencent.com/pypi/packages/68/f7/eea026fd781585ccd66dc6998d3e7d83ac86f140b89e9829c233c2d46fdf/timm-0.6.5-py3-none-any.whl (512 kB)\n",
      "     |████████████████████████████████| 512 kB 797 kB/s            \n",
      "\u001b[?25hRequirement already satisfied: torchvision in /opt/conda/envs/pytorch_py3/lib/python3.6/site-packages (from timm) (0.10.0)\n",
      "Requirement already satisfied: torch>=1.4 in /opt/conda/envs/pytorch_py3/lib/python3.6/site-packages (from timm) (1.9.0)\n",
      "Requirement already satisfied: typing-extensions in /home/tione/.local/lib/python3.6/site-packages (from torch>=1.4->timm) (4.1.1)\n",
      "Requirement already satisfied: dataclasses in /opt/conda/envs/pytorch_py3/lib/python3.6/site-packages (from torch>=1.4->timm) (0.8)\n",
      "Requirement already satisfied: numpy in /opt/conda/envs/pytorch_py3/lib/python3.6/site-packages (from torchvision->timm) (1.19.5)\n",
      "Requirement already satisfied: pillow>=5.3.0 in /opt/conda/envs/pytorch_py3/lib/python3.6/site-packages (from torchvision->timm) (8.4.0)\n",
      "Installing collected packages: timm\n",
      "Successfully installed timm-0.6.5\n"
     ]
    },
    {
     "data": {
      "text/plain": [
       "0"
      ]
     },
     "execution_count": 18,
     "metadata": {},
     "output_type": "execute_result"
    }
   ],
   "source": [
    "# !pip install -i https://mirrors.cloud.tencent.com/pypi/simple timm"
   ]
  },
  {
   "cell_type": "code",
   "execution_count": null,
   "id": "1d882257-6aae-4951-9902-ec858fdfca76",
   "metadata": {},
   "outputs": [],
   "source": [
    "uni_bert_cfg = BertConfig.from_pretrained(f'{args.bert_dir}/config.json')\n",
    "roberta2 = UniBertForMaskedLM.from_pretrained(args.bert_dir, config=uni_bert_cfg)"
   ]
  },
  {
   "cell_type": "code",
   "execution_count": 30,
   "id": "217dd9a4-a15c-44e8-9941-ac08033426a9",
   "metadata": {},
   "outputs": [],
   "source": [
    "uni_bert_cfg = BertConfig.from_pretrained(f'./opensource_models/chinese-roberta-wwm-ext/config.json')\n",
    "UniBert3 = UniBert3(config=uni_bert_cfg)"
   ]
  },
  {
   "cell_type": "code",
   "execution_count": 31,
   "id": "f749a7ab-a578-43cd-97e2-7e18afce76fb",
   "metadata": {
    "collapsed": true,
    "jupyter": {
     "outputs_hidden": true
    },
    "tags": []
   },
   "outputs": [
    {
     "name": "stdout",
     "output_type": "stream",
     "text": [
      "embeddings.word_embeddings.weight : torch.Size([21128, 768])\n",
      "embeddings.position_embeddings.weight : torch.Size([512, 768])\n",
      "embeddings.token_type_embeddings.weight : torch.Size([2, 768])\n",
      "embeddings.LayerNorm.weight : torch.Size([768])\n",
      "embeddings.LayerNorm.bias : torch.Size([768])\n",
      "video_dense.weight : torch.Size([768, 768])\n",
      "video_dense.bias : torch.Size([768])\n",
      "encoder.layer.0.attention.self.query.weight : torch.Size([768, 768])\n",
      "encoder.layer.0.attention.self.query.bias : torch.Size([768])\n",
      "encoder.layer.0.attention.self.key.weight : torch.Size([768, 768])\n",
      "encoder.layer.0.attention.self.key.bias : torch.Size([768])\n",
      "encoder.layer.0.attention.self.value.weight : torch.Size([768, 768])\n",
      "encoder.layer.0.attention.self.value.bias : torch.Size([768])\n",
      "encoder.layer.0.attention.output.dense.weight : torch.Size([768, 768])\n",
      "encoder.layer.0.attention.output.dense.bias : torch.Size([768])\n",
      "encoder.layer.0.attention.output.LayerNorm.weight : torch.Size([768])\n",
      "encoder.layer.0.attention.output.LayerNorm.bias : torch.Size([768])\n",
      "encoder.layer.0.intermediate.dense.weight : torch.Size([3072, 768])\n",
      "encoder.layer.0.intermediate.dense.bias : torch.Size([3072])\n",
      "encoder.layer.0.output.dense.weight : torch.Size([768, 3072])\n",
      "encoder.layer.0.output.dense.bias : torch.Size([768])\n",
      "encoder.layer.0.output.LayerNorm.weight : torch.Size([768])\n",
      "encoder.layer.0.output.LayerNorm.bias : torch.Size([768])\n",
      "encoder.layer.1.attention.self.query.weight : torch.Size([768, 768])\n",
      "encoder.layer.1.attention.self.query.bias : torch.Size([768])\n",
      "encoder.layer.1.attention.self.key.weight : torch.Size([768, 768])\n",
      "encoder.layer.1.attention.self.key.bias : torch.Size([768])\n",
      "encoder.layer.1.attention.self.value.weight : torch.Size([768, 768])\n",
      "encoder.layer.1.attention.self.value.bias : torch.Size([768])\n",
      "encoder.layer.1.attention.output.dense.weight : torch.Size([768, 768])\n",
      "encoder.layer.1.attention.output.dense.bias : torch.Size([768])\n",
      "encoder.layer.1.attention.output.LayerNorm.weight : torch.Size([768])\n",
      "encoder.layer.1.attention.output.LayerNorm.bias : torch.Size([768])\n",
      "encoder.layer.1.intermediate.dense.weight : torch.Size([3072, 768])\n",
      "encoder.layer.1.intermediate.dense.bias : torch.Size([3072])\n",
      "encoder.layer.1.output.dense.weight : torch.Size([768, 3072])\n",
      "encoder.layer.1.output.dense.bias : torch.Size([768])\n",
      "encoder.layer.1.output.LayerNorm.weight : torch.Size([768])\n",
      "encoder.layer.1.output.LayerNorm.bias : torch.Size([768])\n",
      "encoder.layer.2.attention.self.query.weight : torch.Size([768, 768])\n",
      "encoder.layer.2.attention.self.query.bias : torch.Size([768])\n",
      "encoder.layer.2.attention.self.key.weight : torch.Size([768, 768])\n",
      "encoder.layer.2.attention.self.key.bias : torch.Size([768])\n",
      "encoder.layer.2.attention.self.value.weight : torch.Size([768, 768])\n",
      "encoder.layer.2.attention.self.value.bias : torch.Size([768])\n",
      "encoder.layer.2.attention.output.dense.weight : torch.Size([768, 768])\n",
      "encoder.layer.2.attention.output.dense.bias : torch.Size([768])\n",
      "encoder.layer.2.attention.output.LayerNorm.weight : torch.Size([768])\n",
      "encoder.layer.2.attention.output.LayerNorm.bias : torch.Size([768])\n",
      "encoder.layer.2.intermediate.dense.weight : torch.Size([3072, 768])\n",
      "encoder.layer.2.intermediate.dense.bias : torch.Size([3072])\n",
      "encoder.layer.2.output.dense.weight : torch.Size([768, 3072])\n",
      "encoder.layer.2.output.dense.bias : torch.Size([768])\n",
      "encoder.layer.2.output.LayerNorm.weight : torch.Size([768])\n",
      "encoder.layer.2.output.LayerNorm.bias : torch.Size([768])\n",
      "encoder.layer.3.attention.self.query.weight : torch.Size([768, 768])\n",
      "encoder.layer.3.attention.self.query.bias : torch.Size([768])\n",
      "encoder.layer.3.attention.self.key.weight : torch.Size([768, 768])\n",
      "encoder.layer.3.attention.self.key.bias : torch.Size([768])\n",
      "encoder.layer.3.attention.self.value.weight : torch.Size([768, 768])\n",
      "encoder.layer.3.attention.self.value.bias : torch.Size([768])\n",
      "encoder.layer.3.attention.output.dense.weight : torch.Size([768, 768])\n",
      "encoder.layer.3.attention.output.dense.bias : torch.Size([768])\n",
      "encoder.layer.3.attention.output.LayerNorm.weight : torch.Size([768])\n",
      "encoder.layer.3.attention.output.LayerNorm.bias : torch.Size([768])\n",
      "encoder.layer.3.intermediate.dense.weight : torch.Size([3072, 768])\n",
      "encoder.layer.3.intermediate.dense.bias : torch.Size([3072])\n",
      "encoder.layer.3.output.dense.weight : torch.Size([768, 3072])\n",
      "encoder.layer.3.output.dense.bias : torch.Size([768])\n",
      "encoder.layer.3.output.LayerNorm.weight : torch.Size([768])\n",
      "encoder.layer.3.output.LayerNorm.bias : torch.Size([768])\n",
      "encoder.layer.4.attention.self.query.weight : torch.Size([768, 768])\n",
      "encoder.layer.4.attention.self.query.bias : torch.Size([768])\n",
      "encoder.layer.4.attention.self.key.weight : torch.Size([768, 768])\n",
      "encoder.layer.4.attention.self.key.bias : torch.Size([768])\n",
      "encoder.layer.4.attention.self.value.weight : torch.Size([768, 768])\n",
      "encoder.layer.4.attention.self.value.bias : torch.Size([768])\n",
      "encoder.layer.4.attention.output.dense.weight : torch.Size([768, 768])\n",
      "encoder.layer.4.attention.output.dense.bias : torch.Size([768])\n",
      "encoder.layer.4.attention.output.LayerNorm.weight : torch.Size([768])\n",
      "encoder.layer.4.attention.output.LayerNorm.bias : torch.Size([768])\n",
      "encoder.layer.4.intermediate.dense.weight : torch.Size([3072, 768])\n",
      "encoder.layer.4.intermediate.dense.bias : torch.Size([3072])\n",
      "encoder.layer.4.output.dense.weight : torch.Size([768, 3072])\n",
      "encoder.layer.4.output.dense.bias : torch.Size([768])\n",
      "encoder.layer.4.output.LayerNorm.weight : torch.Size([768])\n",
      "encoder.layer.4.output.LayerNorm.bias : torch.Size([768])\n",
      "encoder.layer.5.attention.self.query.weight : torch.Size([768, 768])\n",
      "encoder.layer.5.attention.self.query.bias : torch.Size([768])\n",
      "encoder.layer.5.attention.self.key.weight : torch.Size([768, 768])\n",
      "encoder.layer.5.attention.self.key.bias : torch.Size([768])\n",
      "encoder.layer.5.attention.self.value.weight : torch.Size([768, 768])\n",
      "encoder.layer.5.attention.self.value.bias : torch.Size([768])\n",
      "encoder.layer.5.attention.output.dense.weight : torch.Size([768, 768])\n",
      "encoder.layer.5.attention.output.dense.bias : torch.Size([768])\n",
      "encoder.layer.5.attention.output.LayerNorm.weight : torch.Size([768])\n",
      "encoder.layer.5.attention.output.LayerNorm.bias : torch.Size([768])\n",
      "encoder.layer.5.intermediate.dense.weight : torch.Size([3072, 768])\n",
      "encoder.layer.5.intermediate.dense.bias : torch.Size([3072])\n",
      "encoder.layer.5.output.dense.weight : torch.Size([768, 3072])\n",
      "encoder.layer.5.output.dense.bias : torch.Size([768])\n",
      "encoder.layer.5.output.LayerNorm.weight : torch.Size([768])\n",
      "encoder.layer.5.output.LayerNorm.bias : torch.Size([768])\n",
      "encoder.layer.6.attention.self.query.weight : torch.Size([768, 768])\n",
      "encoder.layer.6.attention.self.query.bias : torch.Size([768])\n",
      "encoder.layer.6.attention.self.key.weight : torch.Size([768, 768])\n",
      "encoder.layer.6.attention.self.key.bias : torch.Size([768])\n",
      "encoder.layer.6.attention.self.value.weight : torch.Size([768, 768])\n",
      "encoder.layer.6.attention.self.value.bias : torch.Size([768])\n",
      "encoder.layer.6.attention.output.dense.weight : torch.Size([768, 768])\n",
      "encoder.layer.6.attention.output.dense.bias : torch.Size([768])\n",
      "encoder.layer.6.attention.output.LayerNorm.weight : torch.Size([768])\n",
      "encoder.layer.6.attention.output.LayerNorm.bias : torch.Size([768])\n",
      "encoder.layer.6.intermediate.dense.weight : torch.Size([3072, 768])\n",
      "encoder.layer.6.intermediate.dense.bias : torch.Size([3072])\n",
      "encoder.layer.6.output.dense.weight : torch.Size([768, 3072])\n",
      "encoder.layer.6.output.dense.bias : torch.Size([768])\n",
      "encoder.layer.6.output.LayerNorm.weight : torch.Size([768])\n",
      "encoder.layer.6.output.LayerNorm.bias : torch.Size([768])\n",
      "encoder.layer.7.attention.self.query.weight : torch.Size([768, 768])\n",
      "encoder.layer.7.attention.self.query.bias : torch.Size([768])\n",
      "encoder.layer.7.attention.self.key.weight : torch.Size([768, 768])\n",
      "encoder.layer.7.attention.self.key.bias : torch.Size([768])\n",
      "encoder.layer.7.attention.self.value.weight : torch.Size([768, 768])\n",
      "encoder.layer.7.attention.self.value.bias : torch.Size([768])\n",
      "encoder.layer.7.attention.output.dense.weight : torch.Size([768, 768])\n",
      "encoder.layer.7.attention.output.dense.bias : torch.Size([768])\n",
      "encoder.layer.7.attention.output.LayerNorm.weight : torch.Size([768])\n",
      "encoder.layer.7.attention.output.LayerNorm.bias : torch.Size([768])\n",
      "encoder.layer.7.intermediate.dense.weight : torch.Size([3072, 768])\n",
      "encoder.layer.7.intermediate.dense.bias : torch.Size([3072])\n",
      "encoder.layer.7.output.dense.weight : torch.Size([768, 3072])\n",
      "encoder.layer.7.output.dense.bias : torch.Size([768])\n",
      "encoder.layer.7.output.LayerNorm.weight : torch.Size([768])\n",
      "encoder.layer.7.output.LayerNorm.bias : torch.Size([768])\n",
      "encoder.layer.8.attention.self.query.weight : torch.Size([768, 768])\n",
      "encoder.layer.8.attention.self.query.bias : torch.Size([768])\n",
      "encoder.layer.8.attention.self.key.weight : torch.Size([768, 768])\n",
      "encoder.layer.8.attention.self.key.bias : torch.Size([768])\n",
      "encoder.layer.8.attention.self.value.weight : torch.Size([768, 768])\n",
      "encoder.layer.8.attention.self.value.bias : torch.Size([768])\n",
      "encoder.layer.8.attention.output.dense.weight : torch.Size([768, 768])\n",
      "encoder.layer.8.attention.output.dense.bias : torch.Size([768])\n",
      "encoder.layer.8.attention.output.LayerNorm.weight : torch.Size([768])\n",
      "encoder.layer.8.attention.output.LayerNorm.bias : torch.Size([768])\n",
      "encoder.layer.8.intermediate.dense.weight : torch.Size([3072, 768])\n",
      "encoder.layer.8.intermediate.dense.bias : torch.Size([3072])\n",
      "encoder.layer.8.output.dense.weight : torch.Size([768, 3072])\n",
      "encoder.layer.8.output.dense.bias : torch.Size([768])\n",
      "encoder.layer.8.output.LayerNorm.weight : torch.Size([768])\n",
      "encoder.layer.8.output.LayerNorm.bias : torch.Size([768])\n",
      "encoder.layer.9.attention.self.query.weight : torch.Size([768, 768])\n",
      "encoder.layer.9.attention.self.query.bias : torch.Size([768])\n",
      "encoder.layer.9.attention.self.key.weight : torch.Size([768, 768])\n",
      "encoder.layer.9.attention.self.key.bias : torch.Size([768])\n",
      "encoder.layer.9.attention.self.value.weight : torch.Size([768, 768])\n",
      "encoder.layer.9.attention.self.value.bias : torch.Size([768])\n",
      "encoder.layer.9.attention.output.dense.weight : torch.Size([768, 768])\n",
      "encoder.layer.9.attention.output.dense.bias : torch.Size([768])\n",
      "encoder.layer.9.attention.output.LayerNorm.weight : torch.Size([768])\n",
      "encoder.layer.9.attention.output.LayerNorm.bias : torch.Size([768])\n",
      "encoder.layer.9.intermediate.dense.weight : torch.Size([3072, 768])\n",
      "encoder.layer.9.intermediate.dense.bias : torch.Size([3072])\n",
      "encoder.layer.9.output.dense.weight : torch.Size([768, 3072])\n",
      "encoder.layer.9.output.dense.bias : torch.Size([768])\n",
      "encoder.layer.9.output.LayerNorm.weight : torch.Size([768])\n",
      "encoder.layer.9.output.LayerNorm.bias : torch.Size([768])\n",
      "encoder.layer.10.attention.self.query.weight : torch.Size([768, 768])\n",
      "encoder.layer.10.attention.self.query.bias : torch.Size([768])\n",
      "encoder.layer.10.attention.self.key.weight : torch.Size([768, 768])\n",
      "encoder.layer.10.attention.self.key.bias : torch.Size([768])\n",
      "encoder.layer.10.attention.self.value.weight : torch.Size([768, 768])\n",
      "encoder.layer.10.attention.self.value.bias : torch.Size([768])\n",
      "encoder.layer.10.attention.output.dense.weight : torch.Size([768, 768])\n",
      "encoder.layer.10.attention.output.dense.bias : torch.Size([768])\n",
      "encoder.layer.10.attention.output.LayerNorm.weight : torch.Size([768])\n",
      "encoder.layer.10.attention.output.LayerNorm.bias : torch.Size([768])\n",
      "encoder.layer.10.intermediate.dense.weight : torch.Size([3072, 768])\n",
      "encoder.layer.10.intermediate.dense.bias : torch.Size([3072])\n",
      "encoder.layer.10.output.dense.weight : torch.Size([768, 3072])\n",
      "encoder.layer.10.output.dense.bias : torch.Size([768])\n",
      "encoder.layer.10.output.LayerNorm.weight : torch.Size([768])\n",
      "encoder.layer.10.output.LayerNorm.bias : torch.Size([768])\n",
      "encoder.layer.11.attention.self.query.weight : torch.Size([768, 768])\n",
      "encoder.layer.11.attention.self.query.bias : torch.Size([768])\n",
      "encoder.layer.11.attention.self.key.weight : torch.Size([768, 768])\n",
      "encoder.layer.11.attention.self.key.bias : torch.Size([768])\n",
      "encoder.layer.11.attention.self.value.weight : torch.Size([768, 768])\n",
      "encoder.layer.11.attention.self.value.bias : torch.Size([768])\n",
      "encoder.layer.11.attention.output.dense.weight : torch.Size([768, 768])\n",
      "encoder.layer.11.attention.output.dense.bias : torch.Size([768])\n",
      "encoder.layer.11.attention.output.LayerNorm.weight : torch.Size([768])\n",
      "encoder.layer.11.attention.output.LayerNorm.bias : torch.Size([768])\n",
      "encoder.layer.11.intermediate.dense.weight : torch.Size([3072, 768])\n",
      "encoder.layer.11.intermediate.dense.bias : torch.Size([3072])\n",
      "encoder.layer.11.output.dense.weight : torch.Size([768, 3072])\n",
      "encoder.layer.11.output.dense.bias : torch.Size([768])\n",
      "encoder.layer.11.output.LayerNorm.weight : torch.Size([768])\n",
      "encoder.layer.11.output.LayerNorm.bias : torch.Size([768])\n"
     ]
    }
   ],
   "source": [
    "for name,parameters in UniBert3.named_parameters():\n",
    "    print(name,':',parameters.size())"
   ]
  },
  {
   "cell_type": "code",
   "execution_count": 32,
   "id": "f5799672-1202-4e05-bd4f-029e2b92c0f8",
   "metadata": {},
   "outputs": [
    {
     "name": "stdout",
     "output_type": "stream",
     "text": [
      "Parameter containing:\n",
      "tensor([[ 0.0000,  0.0000,  0.0000,  ...,  0.0000,  0.0000,  0.0000],\n",
      "        [ 0.0351,  0.0032, -0.0068,  ...,  0.0028,  0.0174, -0.0056],\n",
      "        [ 0.0228, -0.0011,  0.0035,  ...,  0.0156, -0.0159, -0.0477],\n",
      "        ...,\n",
      "        [-0.0089,  0.0028, -0.0108,  ..., -0.0300, -0.0222, -0.0032],\n",
      "        [-0.0328, -0.0159, -0.0049,  ..., -0.0208, -0.0162,  0.0058],\n",
      "        [ 0.0068,  0.0005, -0.0600,  ..., -0.0119, -0.0065, -0.0229]],\n",
      "       requires_grad=True)\n"
     ]
    }
   ],
   "source": [
    "for name,parameters in UniBert3.named_parameters():\n",
    "    if name == 'embeddings.word_embeddings.weight':\n",
    "        print(parameters)"
   ]
  },
  {
   "cell_type": "code",
   "execution_count": 3,
   "id": "bc9b8829-e080-4c66-b2b0-c392ed5986aa",
   "metadata": {},
   "outputs": [],
   "source": [
    "import torch\n",
    "# 新增：\n",
    "import torch.distributed as dist"
   ]
  },
  {
   "cell_type": "code",
   "execution_count": 5,
   "id": "63986428-bfa2-4fb3-bcd0-e031c7bdb4ee",
   "metadata": {},
   "outputs": [
    {
     "data": {
      "text/plain": [
       "'1.9.0'"
      ]
     },
     "execution_count": 5,
     "metadata": {},
     "output_type": "execute_result"
    }
   ],
   "source": [
    "torch.__version__"
   ]
  },
  {
   "cell_type": "code",
   "execution_count": 4,
   "id": "880bec4a-1d5f-4955-b824-c092c3fef8ab",
   "metadata": {},
   "outputs": [
    {
     "ename": "ValueError",
     "evalue": "Error initializing torch.distributed using env:// rendezvous: environment variable RANK expected, but not set",
     "output_type": "error",
     "traceback": [
      "\u001b[0;31m---------------------------------------------------------------------------\u001b[0m\n\u001b[0;31mValueError\u001b[0m                                Traceback (most recent call last)",
      "In  \u001b[0;34m[4]\u001b[0m:\nLine \u001b[0;34m1\u001b[0m:     dist.init_process_group(backend=\u001b[33m'\u001b[39;49;00m\u001b[33mnccl\u001b[39;49;00m\u001b[33m'\u001b[39;49;00m)\n",
      "File \u001b[0;34m/opt/conda/envs/pytorch_py3/lib/python3.6/site-packages/torch/distributed/distributed_c10d.py\u001b[0m, in \u001b[0;32minit_process_group\u001b[0m:\nLine \u001b[0;34m520\u001b[0m:   store, rank, world_size = \u001b[36mnext\u001b[39;49;00m(rendezvous_iterator)\n",
      "File \u001b[0;34m/opt/conda/envs/pytorch_py3/lib/python3.6/site-packages/torch/distributed/rendezvous.py\u001b[0m, in \u001b[0;32m_env_rendezvous_handler\u001b[0m:\nLine \u001b[0;34m175\u001b[0m:   rank = \u001b[36mint\u001b[39;49;00m(_get_env_or_raise(\u001b[33m\"\u001b[39;49;00m\u001b[33mRANK\u001b[39;49;00m\u001b[33m\"\u001b[39;49;00m))\n",
      "File \u001b[0;34m/opt/conda/envs/pytorch_py3/lib/python3.6/site-packages/torch/distributed/rendezvous.py\u001b[0m, in \u001b[0;32m_get_env_or_raise\u001b[0m:\nLine \u001b[0;34m159\u001b[0m:   \u001b[34mraise\u001b[39;49;00m _env_error(env_var)\n",
      "\u001b[0;31mValueError\u001b[0m: Error initializing torch.distributed using env:// rendezvous: environment variable RANK expected, but not set\n\u001b[0;31m---------------------------------------------------------------------------\u001b[0m"
     ]
    }
   ],
   "source": [
    "dist.init_process_group(backend='nccl') "
   ]
  },
  {
   "cell_type": "code",
   "execution_count": 2,
   "id": "5656f7d3-e2e6-4369-b2d1-ac4b62f8e3a4",
   "metadata": {},
   "outputs": [
    {
     "ename": "RuntimeError",
     "evalue": "Default process group has not been initialized, please make sure to call init_process_group.",
     "output_type": "error",
     "traceback": [
      "\u001b[0;31m---------------------------------------------------------------------------\u001b[0m\n\u001b[0;31mRuntimeError\u001b[0m                              Traceback (most recent call last)",
      "In  \u001b[0;34m[2]\u001b[0m:\nLine \u001b[0;34m1\u001b[0m:     torch.distributed.get_world_size()\n",
      "File \u001b[0;34m/opt/conda/envs/pytorch_py3/lib/python3.6/site-packages/torch/distributed/distributed_c10d.py\u001b[0m, in \u001b[0;32mget_world_size\u001b[0m:\nLine \u001b[0;34m748\u001b[0m:   \u001b[34mreturn\u001b[39;49;00m _get_group_size(group)\n",
      "File \u001b[0;34m/opt/conda/envs/pytorch_py3/lib/python3.6/site-packages/torch/distributed/distributed_c10d.py\u001b[0m, in \u001b[0;32m_get_group_size\u001b[0m:\nLine \u001b[0;34m274\u001b[0m:   default_pg = _get_default_group()\n",
      "File \u001b[0;34m/opt/conda/envs/pytorch_py3/lib/python3.6/site-packages/torch/distributed/distributed_c10d.py\u001b[0m, in \u001b[0;32m_get_default_group\u001b[0m:\nLine \u001b[0;34m358\u001b[0m:   \u001b[34mraise\u001b[39;49;00m \u001b[36mRuntimeError\u001b[39;49;00m(\u001b[33m\"\u001b[39;49;00m\u001b[33mDefault process group has not been initialized, \u001b[39;49;00m\u001b[33m\"\u001b[39;49;00m\n",
      "\u001b[0;31mRuntimeError\u001b[0m: Default process group has not been initialized, please make sure to call init_process_group.\n\u001b[0;31m---------------------------------------------------------------------------\u001b[0m"
     ]
    }
   ],
   "source": [
    "torch.distributed.get_world_size()"
   ]
  },
  {
   "cell_type": "code",
   "execution_count": null,
   "id": "b76a3f71-5f5f-4dbe-91b1-ef07b27ec71e",
   "metadata": {},
   "outputs": [],
   "source": []
  }
 ],
 "metadata": {
  "kernelspec": {
   "display_name": "pytorch_py3",
   "language": "python",
   "name": "conda_pytorch_py3"
  },
  "language_info": {
   "file_extension": ".py",
   "mimetype": "text/x-python",
   "name": "python",
   "version": "3.6.15"
  }
 },
 "nbformat": 4,
 "nbformat_minor": 5
}
